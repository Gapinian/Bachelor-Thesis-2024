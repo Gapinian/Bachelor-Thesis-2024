{
  "nbformat": 4,
  "nbformat_minor": 0,
  "metadata": {
    "colab": {
      "provenance": [],
      "authorship_tag": "ABX9TyM9GS6QPCR5ovC7gNZq/1qQ",
      "include_colab_link": true
    },
    "kernelspec": {
      "name": "python3",
      "display_name": "Python 3"
    },
    "language_info": {
      "name": "python"
    }
  },
  "cells": [
    {
      "cell_type": "markdown",
      "metadata": {
        "id": "view-in-github",
        "colab_type": "text"
      },
      "source": [
        "<a href=\"https://colab.research.google.com/github/Gapinian/Bachelor-Thesis-2024/blob/main/Euclidian_Distance_calculation_for_the_bachelor_thesis.ipynb\" target=\"_parent\"><img src=\"https://colab.research.google.com/assets/colab-badge.svg\" alt=\"Open In Colab\"/></a>"
      ]
    },
    {
      "cell_type": "code",
      "execution_count": null,
      "metadata": {
        "colab": {
          "base_uri": "https://localhost:8080/"
        },
        "id": "UrmLoqhTF2fm",
        "outputId": "0ffb41dc-074c-4dee-82fc-f7b082625edb"
      },
      "outputs": [
        {
          "output_type": "stream",
          "name": "stdout",
          "text": [
            "2.6457513110645907\n",
            "The data sets are sufficiently different from each other.\n"
          ]
        }
      ],
      "source": [
        "import numpy as np\n",
        "\n",
        "# Data sets representing the scores of success factors are defined as 2 elements\n",
        "element_A = np.array([1, 3, 2, 3, 1, 3, 2])\n",
        "element_B = np.array([2, 2, 1, 2, 0, 2, 1])\n",
        "\n",
        "# Euclidean distance between the elements is computed\n",
        "euclidean_distance = np.linalg.norm(element_A - element_B)\n",
        "\n",
        "# A threshold is determined to be 0.5\n",
        "threshold = 1.5\n",
        "\n",
        "print(euclidean_distance)\n",
        "\n",
        "# Euclidian distance is compraed with threshold\n",
        "if euclidean_distance <= threshold:\n",
        "    print(\"The data sets are too similar to each other.\")\n",
        "else:\n",
        "    print(\"The data sets are sufficiently different from each other.\")"
      ]
    }
  ]
}