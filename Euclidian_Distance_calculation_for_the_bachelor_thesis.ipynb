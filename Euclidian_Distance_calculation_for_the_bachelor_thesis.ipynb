{
  "nbformat": 4,
  "nbformat_minor": 0,
  "metadata": {
    "colab": {
      "provenance": [],
      "authorship_tag": "ABX9TyNDZN2Q9z4s4itl7Ky62RuB",
      "include_colab_link": true
    },
    "kernelspec": {
      "name": "python3",
      "display_name": "Python 3"
    },
    "language_info": {
      "name": "python"
    }
  },
  "cells": [
    {
      "cell_type": "markdown",
      "metadata": {
        "id": "view-in-github",
        "colab_type": "text"
      },
      "source": [
        "<a href=\"https://colab.research.google.com/github/Gapinian/Bachelor-Thesis-2024/blob/main/Euclidian_Distance_calculation_for_the_bachelor_thesis.ipynb\" target=\"_parent\"><img src=\"https://colab.research.google.com/assets/colab-badge.svg\" alt=\"Open In Colab\"/></a>"
      ]
    },
    {
      "cell_type": "code",
      "execution_count": 1,
      "metadata": {
        "colab": {
          "base_uri": "https://localhost:8080/"
        },
        "id": "UrmLoqhTF2fm",
        "outputId": "e13c7f13-891d-41ed-8243-64b1e3673053"
      },
      "outputs": [
        {
          "output_type": "stream",
          "name": "stdout",
          "text": [
            "4.0\n",
            "The data sets are sufficiently different from each other.\n"
          ]
        }
      ],
      "source": [
        "import numpy as np\n",
        "\n",
        "# Data sets representing the scores of success factors are defined as 2 elements\n",
        "element_A = np.array([0, 0, 1, 2, 2, 3, 2, 0, 1]) #the set of factor scores in the consecutive order based on case studies\n",
        "element_B = np.array([1, 2, 3, 3, 1, 2, 2, 2, 1]) #the set of factors scores in the consecutive order based solely on interviews\n",
        "\n",
        "# Euclidean distance between the elements is computed\n",
        "euclidean_distance = np.linalg.norm(element_A - element_B)\n",
        "\n",
        "# A threshold is determined to be 0.5\n",
        "threshold = 1.5 #this threshold can be re-determined by the reader of this thesis\n",
        "\n",
        "print(euclidean_distance)\n",
        "\n",
        "# Euclidian distance is compraed with threshold\n",
        "if euclidean_distance <= threshold:\n",
        "    print(\"The data sets are too similar to each other.\")\n",
        "else:\n",
        "    print(\"The data sets are sufficiently different from each other.\")"
      ]
    }
  ]
}